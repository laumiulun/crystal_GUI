{
 "cells": [
  {
   "cell_type": "code",
   "execution_count": 30,
   "metadata": {
    "scrolled": false
   },
   "outputs": [
    {
     "data": {
      "text/html": [
       "<div id=\"glowscript\" class=\"glowscript\"></div>"
      ],
      "text/plain": [
       "<IPython.core.display.HTML object>"
      ]
     },
     "metadata": {},
     "output_type": "display_data"
    },
    {
     "data": {
      "application/javascript": [
       "if (typeof Jupyter !== \"undefined\") { window.__context = { glowscript_container: $(\"#glowscript\").removeAttr(\"id\")};}else{ element.textContent = ' ';}"
      ],
      "text/plain": [
       "<IPython.core.display.Javascript object>"
      ]
     },
     "metadata": {},
     "output_type": "display_data"
    }
   ],
   "source": [
    "# SrTiO3\n",
    "\n",
    "# Note\n",
    "# Sr-Sr 3.905 \n",
    "# A (Sr): 2.15   \n",
    "# B(Ti): 1.47\n",
    "# C(O): 0.74\n",
    "\n",
    "from vpython import *\n",
    "\n",
    "#----------------------------------------------------------------------------\n",
    "L = 1\n",
    "\n",
    "bond = 3.905\n",
    "\n",
    "ra = 2.15/2/bond*1\n",
    "rb = 1.47/2/bond*1\n",
    "ro = 0.74/2/bond*1\n",
    "#----------------------------------------------------------------------------\n",
    "\n",
    "\n",
    "canvas(background = color.black, width=600, length=600, center=vector(-1.,-1.,-1.))\n",
    "\n",
    "opatom = 1\n",
    "opbar = 1\n",
    "\n",
    "items = []\n",
    "\n",
    "\n",
    "L1 = L\n",
    "LB = L-1\n",
    "LN1 = L-1\n",
    "for i in range(-L, L1):\n",
    "    for j in range(-L, L1):\n",
    "        for k in range(-L, L1):\n",
    "            # plot A: Green\n",
    "            for na in range(-1,0):\n",
    "                v0=vector(i+1/2*na,j+1/2*na,k+1/2*na)\n",
    "                b=sphere(pos = v0, radius = ra, color = color.green, opacity=opatom) \n",
    "                items.append(b)\n",
    "                if i< LN1:\n",
    "                    b=cylinder(pos = v0, axis=vector(1,0,0),radius = .01, color = color.white, opacity=opbar)\n",
    "                    items.append(b)\n",
    "                if j< LN1:\n",
    "                    b=cylinder(pos = v0, axis=vector(0,1,0),radius = .01, color = color.white, opacity=opbar)\n",
    "                    items.append(b)\n",
    "                if k< LN1:\n",
    "                    b=cylinder(pos = v0, axis=vector(0,0,1),radius = .01, color = color.white, opacity=opbar)\n",
    "                    items.append(b)\n",
    "            # plot B: Blue\n",
    "            if(i<LB and j<LB and k<LB):\n",
    "                b=sphere(pos = vector(i,j,k), radius = rb, color = vector(0.0,0.7,1), opacity=opatom)\n",
    "                items.append(b)\n",
    "                # plot O: red\n",
    "                v=[vector(i-1/2,j,k), vector(i+1/2,j,k), vector(i,j-1/2,k), vector(i,j+1/2,k), \\\n",
    "                   vector(i,j,k-1/2), vector(i,j,k+1/2)]\n",
    "                for x in v:\n",
    "                    b=sphere(pos = x, radius = ro, color = color.red, opacity=opatom)\n",
    "                    items.append(b)\n",
    "                for m in range(2,6):\n",
    "                    b=cylinder(pos = v[0], axis=v[m]-v[0],radius = .01, color = color.white, opacity=opbar)\n",
    "                    items.append(b)\n",
    "                    b=cylinder(pos = v[1], axis=v[m]-v[1],radius = .01, color = color.white, opacity=opbar)\n",
    "                    items.append(b)\n",
    "                for m in range(4,6):\n",
    "                    b=cylinder(pos = v[2], axis=v[m]-v[2],radius = .01, color = color.white, opacity=opbar)\n",
    "                    items.append(b)\n",
    "                    b=cylinder(pos = v[3], axis=v[m]-v[3],radius = .01, color = color.white, opacity=opbar)\n",
    "                    items.append(b)\n",
    "\n",
    "# while True:  # Endless Loop Continuously Rotates Globe\n",
    "#     rate(100) #Sets Animation Speed\n",
    "#     for b in items:\n",
    "#         b.rotate(angle=.01, axis=vector(0,1,0), origin=vector(-1,-1,-1))\n",
    "\n",
    "\n",
    "                    "
   ]
  },
  {
   "cell_type": "code",
   "execution_count": null,
   "metadata": {},
   "outputs": [],
   "source": [
    "from vpython import *\n",
    "\n",
    "\n",
    "scene5=canvas(background = color.black, width=600, length=600, center=vector(-1,-1,-1))\n",
    "#-------------------------------------\n",
    "L = 1\n",
    "bond_ab = 3.905\n",
    "ra_int = 2.15\n",
    "rb_int = 1.47\n",
    "ro_int = 0.74\n",
    "#--------------------------------------\n",
    "ra = ra_int/2/bond_ab*1\n",
    "rb = rb_int/2/bond_ab*1\n",
    "ro = ro_int/2/bond_ab*1\n",
    "\n",
    "ra_item = []\n",
    "rb_item = []\n",
    "ro_item = []\n",
    "cylinder_item = []\n",
    "total_item = []\n",
    "\n",
    "running = False\n",
    "\n",
    "opatom = 1\n",
    "opbar = 1\n",
    "\n",
    "\n",
    "## need to change the input parameters\n",
    "def build(L,ra,rb,ra_item,rb_item,ro_item,cylinder_item,total_item):\n",
    "    L1 = L\n",
    "    LB = L-1\n",
    "    LN1 = L-1\n",
    "    #global total_item\n",
    "    for i in range(-L, L1-1):\n",
    "        for j in range(-L, L1-1):\n",
    "            for k in range(-L, L1-1):\n",
    "                # plot A: Green\n",
    "                for na in range(-1,0):\n",
    "                    v0=vector(i+1/2*na,j+1/2*na,k+1/2*na)\n",
    "                    b=sphere(pos = v0, radius = ra, color = color.green, opacity=opatom) \n",
    "                    ra_item.append(b)\n",
    "                    if i< LN1:\n",
    "                        b=cylinder(pos = v0, axis=vector(1,0,0),radius = .01, color = color.white, opacity=opbar)\n",
    "                        cylinder_item.append(b)\n",
    "                    if j< LN1:\n",
    "                        b=cylinder(pos = v0, axis=vector(0,1,0),radius = .01, color = color.white, opacity=opbar)\n",
    "                        cylinder_item.append(b)\n",
    "                    if k< LN1:\n",
    "                        b=cylinder(pos = v0, axis=vector(0,0,1),radius = .01, color = color.white, opacity=opbar)\n",
    "                        cylinder_item.append(b)\n",
    "                # plot B: Blue\n",
    "                if(i<LB and j<LB and k<LB):\n",
    "                    b=sphere(pos = vector(i,j,k), radius = rb, color = vector(0.0,0.7,1), opacity=opatom)\n",
    "                    rb_item.append(b)\n",
    "                    # plot O: red\n",
    "                    v=[vector(i-1/2,j,k), vector(i+1/2,j,k), vector(i,j-1/2,k), vector(i,j+1/2,k), \\\n",
    "                       vector(i,j,k-1/2), vector(i,j,k+1/2)]\n",
    "                    for x in v:\n",
    "                        b=sphere(pos = x, radius = ro, color = color.red, opacity=opatom)\n",
    "                        ro_item.append(b)\n",
    "                    for m in range(2,6):\n",
    "                        b=cylinder(pos = v[0], axis=v[m]-v[0],radius = .01, color = color.white, opacity=opbar)\n",
    "                        cylinder_item.append(b)\n",
    "                        b=cylinder(pos = v[1], axis=v[m]-v[1],radius = .01, color = color.white, opacity=opbar)\n",
    "                        cylinder_item.append(b)\n",
    "                    for m in range(4,6):\n",
    "                        b=cylinder(pos = v[2], axis=v[m]-v[2],radius = .01, color = color.white, opacity=opbar)\n",
    "                        cylinder_item.append(b)\n",
    "                        b=cylinder(pos = v[3], axis=v[m]-v[3],radius = .01, color = color.white, opacity=opbar)\n",
    "                        cylinder_item.append(b)\n",
    "                    \n",
    "    total_item = ra_item + rb_item + ro_item + cylinder_item\n",
    "    #print(len(total_item),len(ra_item),len(rb_item))\n",
    "    return ra_item,rb_item,ro_item,cylinder_item,total_item\n",
    "\n",
    "def build_button(s):\n",
    "    global ra_item\n",
    "    global rb_item\n",
    "    global ro_item\n",
    "    global cylinder_item\n",
    "    global total_item\n",
    "    global running\n",
    "    running = not running\n",
    "    if running: s.text = \"Pause\"\n",
    "    else: s.text = \"Run\"\n",
    "    \n",
    "    #ra_item,rb_item,cylinder_item,total_item = build(L,ra,rb,ra_item,rb_item,cylinder_item,total_item)\n",
    "# clear item\n",
    "def clear():\n",
    "    for i in ra_item:\n",
    "        i.visible = False\n",
    "        del i\n",
    "    for i in rb_item:\n",
    "        i.visible = False\n",
    "        del i \n",
    "    for i in ro_item:\n",
    "        i.visible = False\n",
    "        del i \n",
    "    for i in cylinder_item:\n",
    "        i.visible = False\n",
    "        del i\n",
    "\n",
    "# resetting button, rebuild based on inital parameters\n",
    "def reset():\n",
    "    global ra_item\n",
    "    global rb_item\n",
    "    global ro_item\n",
    "    global cylinder_item\n",
    "    global total_item\n",
    "    clear()\n",
    "    ra_item,rb_item,ro_item,cylinder_item,total_item = build(L,ra,rb,ra_item,rb_item,ro_item,cylinder_item,total_item)\n",
    "\n",
    "# Function for setting bond_ab\n",
    "def set_bondab(s):\n",
    "    bond_ab = s.number\n",
    "    ra = ra_int/2/bond_ab*1\n",
    "    rb = rb_int/2/bond_ab*1\n",
    "    ro = ro_int/2/bond_ab*1\n",
    "    for x in ra_item:\n",
    "        x.radius = ra\n",
    "    for y in rb_item:\n",
    "        y.radius = rb\n",
    "    for z in ro_item:\n",
    "        z.radius = ro\n",
    "    return bond_ab\n",
    "\n",
    "# Function for setting r_a\n",
    "def set_ra(s):\n",
    "    ra_int = s.number \n",
    "    ra = ra_int/2/bond_ab*1 \n",
    "    for x in ra_item:\n",
    "        x.radius = ra\n",
    "    return ra\n",
    "# Function for setting r_b\n",
    "def set_rb(s):\n",
    "    rb_int = s.number\n",
    "    rb = rb_int/2/bond_ab*1\n",
    "    for y in rb_item:\n",
    "        y.radius = rb\n",
    "    return rb\n",
    "\n",
    "# Function for setting r_o\n",
    "def set_ro(s):\n",
    "    ro_int = s.number\n",
    "    ro = ro_int/2/bond_ab*1\n",
    "    for y in ro_item:\n",
    "        y.radius = ro\n",
    "    return ro\n",
    "\n",
    "# Setting distance L\n",
    "def set_L(s):\n",
    "    global ra_item\n",
    "    global rb_item\n",
    "    global ro_item\n",
    "    global cylinder_item\n",
    "    global total_item\n",
    "    L = s.number\n",
    "    clear()\n",
    "    ra_item,rb_item,ro_item,cylinder_item,total_item = build(L,ra,rb,ra_item,rb_item,ro_item,cylinder_item,total_item)\n",
    "#     #total_item = ra_item + rb_item + cylinder_item\n",
    "#     return ra_item,rb_item,cylinder_item#,total_item\n",
    "\n",
    "# inital build \n",
    "ra_item,rb_item,ro_item,cylinder_item,total_item = build(L,ra,rb,ra_item,rb_item,ro_item,cylinder_item,total_item)\n",
    "    #print(len(total_item),len(ra_item),len(rb_item))\n",
    "    \n",
    "# Heading explanation\n",
    "#############################################################################################\n",
    "wtext(text='<h2>Perovskite Example: Strontium titanate(SrTiO3)</h2><hr>',pos= scene5.title_anchor)\n",
    "wtext(text='''Perovskite is used to represent any crystal structure with \\\n",
    "the same type as \\\\(CaTiO_{3} \\\\) It is a promising candidate material in\\\n",
    "solar cell and laser. \n",
    "The default example below shows SrTiO3.\\n''',pos= scene5.title_anchor)\n",
    "\n",
    "wtext(text='''<h3>Control</h3>\\\n",
    "<ul>\\\n",
    "<li><b>Rotate</b>: Right Button drag or Ctrl-drag</li>\\\n",
    "<li><b>Zoom</b>: Drag with middle button or use scroll wheel</li>\\\n",
    "</ul>''',pos= scene5.title_anchor)\n",
    "\n",
    "wtext(text='''<h3>Modifying Structure</h3>\\\n",
    "<ul>\\\n",
    "<li><b>L</b>: Number of Unit Cells(Integar Only)</li>\\\n",
    "<li><b>bond_ab</b>: Lattice Constant(\\\\(   \\\\unicode{x212B}   \\\\))</li>\\\n",
    "<li><b><font color = \"Green\">r_a<font color =\"black\"></b>: Atomic Radius of Strontium [<font color = \"Green\">Green<font color =\"black\">] (\\\\(   \\\\unicode{x212B}   \\\\))</li>\\\n",
    "<li><b><font color =\"Blue\">r_b<font color =\"black\"></b>: Atomic Radius of Titanium [<font color = \"Blue\">Green<font color =\"black\">] (\\\\(   \\\\unicode{x212B}   \\\\))</li>\\\n",
    "<li><b><font color =\"Red\">r_o<font color =\"black\"></b>: Atomic Radius of Oxygen [<font color =\"Red\">Red<font color =\"black\">] (\\\\(   \\\\unicode{x212B}   \\\\))</li>\\\n",
    "</ul>''',pos= scene5.title_anchor)\n",
    "\n",
    "wtext(text='<hr>',pos = scene5.title_anchor)\n",
    "#############################################################################################\n",
    "# Button\n",
    "b1 = button(text = \"Run\", pos = scene5.title_anchor,bind = build_button)\n",
    "b2 = button(text = \"Reset\", pos = scene5.title_anchor,bind = reset)\n",
    "\n",
    "it0= wtext(text='<h5>Parameters:</h5>Adjust the parameters using the input box(press enter key after modifying parameters)\\n')\n",
    "\n",
    "# Sr-Sr 3.905 \n",
    "# A (Sr): 2.15   \n",
    "# B(Ti): 1.47\n",
    "# C(O): 0.74\n",
    "\n",
    "# Parameters input box\n",
    "it1 = wtext(text='L: ')\n",
    "ib1 = winput(type = \"numeric\",pos=scene5.caption_anchor,bind=set_L,text=1)\n",
    "#wo4 = wtext(text = bond_ab)\n",
    "scene5.append_to_caption(\"\\n\")\n",
    "\n",
    "it2 = wtext(text='bond_ab: ')\n",
    "ib2 = winput(type = \"numeric\",pos=scene5.caption_anchor,bind=set_bondab, text = 3.905)\n",
    "#wo4 = wtext(text = bond_ab)\n",
    "wtext(text = \"\\\\(   \\\\unicode{x212B}   \\\\)\")\n",
    "scene5.append_to_caption(\"\\n\")\n",
    "\n",
    "it3 = wtext(text = 'ra: ')\n",
    "ib3 = winput(type = \"numeric\",pos=scene5.caption_anchor,bind=set_ra,text = 2.15)\n",
    "wtext(text = \"\\\\(   \\\\unicode{x212B}   \\\\)\")\n",
    "#wo5 = wtext(text = ra)\n",
    "scene5.append_to_caption(\"\\n\")\n",
    "\n",
    "it4 = wtext(text = 'rb: ')\n",
    "ib4 = winput(type = \"numeric\",pos=scene5.caption_anchor,bind=set_rb,text=1.47)\n",
    "wtext(text = \"\\\\(   \\\\unicode{x212B}   \\\\)\")\n",
    "#wo6 = wtext(text = rb)\n",
    "scene5.append_to_caption(\"\\n\")\n",
    "\n",
    "it5 = wtext(text = 'ro: ')\n",
    "ib5 = winput(type = \"numeric\",pos=scene5.caption_anchor,bind=set_ro,text=0.74)\n",
    "wtext(text = \"\\\\(   \\\\unicode{x212B}   \\\\)\")\n",
    "#wo6 = wtext(text = rb)\n",
    "scene5.append_to_caption(\"\\n\")\n",
    "\n",
    "#MathJax.Hub.Queue([\"Typeset\",MathJax.Hub])\n",
    "\n",
    "# Rotation\n",
    "while True:\n",
    "    rate(100)\n",
    "    if running:\n",
    "        for b in total_item:\n",
    "            b.rotate(angle=.01, axis=vector(0,1,0), origin=vector(-1,-1,-1))\n",
    "\n",
    "\n"
   ]
  },
  {
   "cell_type": "code",
   "execution_count": 1,
   "metadata": {
    "scrolled": true
   },
   "outputs": [
    {
     "data": {
      "text/html": [
       "<div id=\"glowscript\" class=\"glowscript\"></div>"
      ],
      "text/plain": [
       "<IPython.core.display.HTML object>"
      ]
     },
     "metadata": {},
     "output_type": "display_data"
    },
    {
     "data": {
      "application/javascript": [
       "if (typeof Jupyter !== \"undefined\") { window.__context = { glowscript_container: $(\"#glowscript\").removeAttr(\"id\")};}else{ element.textContent = ' ';}"
      ],
      "text/plain": [
       "<IPython.core.display.Javascript object>"
      ]
     },
     "metadata": {},
     "output_type": "display_data"
    },
    {
     "data": {
      "text/html": [
       "<div id=\"glowscript\" class=\"glowscript\"></div>"
      ],
      "text/plain": [
       "<IPython.core.display.HTML object>"
      ]
     },
     "metadata": {},
     "output_type": "display_data"
    },
    {
     "data": {
      "application/javascript": [
       "if (typeof Jupyter !== \"undefined\") { window.__context = { glowscript_container: $(\"#glowscript\").removeAttr(\"id\")};}else{ element.textContent = ' ';}"
      ],
      "text/plain": [
       "<IPython.core.display.Javascript object>"
      ]
     },
     "metadata": {},
     "output_type": "display_data"
    },
    {
     "data": {
      "application/javascript": [
       "if (typeof Jupyter !== \"undefined\") {require.undef(\"nbextensions/vpython_libraries/glow.min\");}else{element.textContent = ' ';}"
      ],
      "text/plain": [
       "<IPython.core.display.Javascript object>"
      ]
     },
     "metadata": {},
     "output_type": "display_data"
    },
    {
     "data": {
      "application/javascript": [
       "if (typeof Jupyter !== \"undefined\") {require.undef(\"nbextensions/vpython_libraries/glowcomm\");}else{element.textContent = ' ';}"
      ],
      "text/plain": [
       "<IPython.core.display.Javascript object>"
      ]
     },
     "metadata": {},
     "output_type": "display_data"
    },
    {
     "data": {
      "application/javascript": [
       "if (typeof Jupyter !== \"undefined\") {require.undef(\"nbextensions/vpython_libraries/jquery-ui.custom.min\");}else{element.textContent = ' ';}"
      ],
      "text/plain": [
       "<IPython.core.display.Javascript object>"
      ]
     },
     "metadata": {},
     "output_type": "display_data"
    },
    {
     "data": {
      "application/javascript": [
       "if (typeof Jupyter !== \"undefined\") {require([\"nbextensions/vpython_libraries/glow.min\"], function(){console.log(\"GLOW LOADED\");});}else{element.textContent = ' ';}"
      ],
      "text/plain": [
       "<IPython.core.display.Javascript object>"
      ]
     },
     "metadata": {},
     "output_type": "display_data"
    },
    {
     "data": {
      "application/javascript": [
       "if (typeof Jupyter !== \"undefined\") {require([\"nbextensions/vpython_libraries/glowcomm\"], function(){console.log(\"GLOWCOMM LOADED\");});}else{element.textContent = ' ';}"
      ],
      "text/plain": [
       "<IPython.core.display.Javascript object>"
      ]
     },
     "metadata": {},
     "output_type": "display_data"
    },
    {
     "data": {
      "application/javascript": [
       "if (typeof Jupyter !== \"undefined\") {require([\"nbextensions/vpython_libraries/jquery-ui.custom.min\"], function(){console.log(\"JQUERY LOADED\");});}else{element.textContent = ' ';}"
      ],
      "text/plain": [
       "<IPython.core.display.Javascript object>"
      ]
     },
     "metadata": {},
     "output_type": "display_data"
    }
   ],
   "source": [
    "from vpython import *\n",
    "scene5=canvas(background = color.black, width=600, length=600, center=vector(0,0,0))\n",
    "\n",
    "\n",
    "wtext(text='<h2>Perovskite Example: Strontium titanate(SrTiO3)</h2><hr>',pos= scene5.title_anchor)\n",
    "wtext(text='''Perovskite is used to represent any crystal structure with \\\n",
    "the same type as \\\\(CaTiO_{3} \\\\) It is a promising candidate material in\\\n",
    "solar cell and laser. \n",
    "The default example below shows SrTiO3.\\n''',pos= scene5.title_anchor)\n",
    "\n",
    "wtext(text='''<h3>Control</h3>\\\n",
    "<ul>\\\n",
    "<li><b>Rotate</b>: Right Button drag or Ctrl-drag</li>\\\n",
    "<li><b>Zoom</b>: Drag with middle button or use scroll wheel</li>\\\n",
    "</ul>''',pos= scene5.title_anchor)\n",
    "\n",
    "wtext(text='''<h3>Modifying Structure</h3>\\\n",
    "<ul>\\\n",
    "<li><b>L</b>: Number of Unit Cells(Integar Only)</li>\\\n",
    "<li><b>bond_ab</b>: Lattice Constant(\\\\(   \\\\unicode{x212B}   \\\\))</li>\\\n",
    "<li><b><font color = \"Green\">r_a<font color =\"black\"></b>: Atomic Radius of Strontium [<font color = \"Green\">Green<font color =\"black\">] (\\\\(   \\\\unicode{x212B}   \\\\))</li>\\\n",
    "<li><b><font color =\"Blue\">r_b<font color =\"black\"></b>: Atomic Radius of Titanium [<font color = \"Blue\">Green<font color =\"black\">] (\\\\(   \\\\unicode{x212B}   \\\\))</li>\\\n",
    "<li><b><font color =\"Red\">r_o<font color =\"black\"></b>: Atomic Radius of Oxygen [<font color =\"Red\">Red<font color =\"black\">] (\\\\(   \\\\unicode{x212B}   \\\\))</li>\\\n",
    "</ul>''',pos= scene5.title_anchor)\n",
    "\n",
    "wtext(text='<hr>',pos = scene5.title_anchor)\n",
    "\n",
    "it0= wtext(text='<h5>Parameters:</h5>Adjust the parameters using the input box(press enter key after modifying parameters)\\n')\n"
   ]
  },
  {
   "cell_type": "code",
   "execution_count": null,
   "metadata": {},
   "outputs": [],
   "source": []
  }
 ],
 "metadata": {
  "kernelspec": {
   "display_name": "VPython",
   "language": "python",
   "name": "vpython"
  },
  "language_info": {
   "codemirror_mode": {
    "name": "ipython",
    "version": 3
   },
   "file_extension": ".py",
   "mimetype": "text/x-python",
   "name": "python",
   "nbconvert_exporter": "python",
   "pygments_lexer": "ipython3",
   "version": "3.7.3"
  },
  "varInspector": {
   "cols": {
    "lenName": 16,
    "lenType": 16,
    "lenVar": 40
   },
   "kernels_config": {
    "python": {
     "delete_cmd_postfix": "",
     "delete_cmd_prefix": "del ",
     "library": "var_list.py",
     "varRefreshCmd": "print(var_dic_list())"
    },
    "r": {
     "delete_cmd_postfix": ") ",
     "delete_cmd_prefix": "rm(",
     "library": "var_list.r",
     "varRefreshCmd": "cat(var_dic_list()) "
    }
   },
   "types_to_exclude": [
    "module",
    "function",
    "builtin_function_or_method",
    "instance",
    "_Feature"
   ],
   "window_display": false
  }
 },
 "nbformat": 4,
 "nbformat_minor": 2
}
