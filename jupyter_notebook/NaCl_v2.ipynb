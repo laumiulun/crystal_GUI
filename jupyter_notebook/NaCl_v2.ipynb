{
 "cells": [
  {
   "cell_type": "code",
   "execution_count": 5,
   "metadata": {
    "scrolled": true
   },
   "outputs": [
    {
     "data": {
      "text/html": [
       "<div id=\"glowscript\" class=\"glowscript\"></div>"
      ],
      "text/plain": [
       "<IPython.core.display.HTML object>"
      ]
     },
     "metadata": {},
     "output_type": "display_data"
    },
    {
     "data": {
      "application/javascript": [
       "if (typeof Jupyter !== \"undefined\") { window.__context = { glowscript_container: $(\"#glowscript\").removeAttr(\"id\")};}else{ element.textContent = ' ';}"
      ],
      "text/plain": [
       "<IPython.core.display.Javascript object>"
      ]
     },
     "metadata": {},
     "output_type": "display_data"
    }
   ],
   "source": [
    "# SrTiO3\n",
    "\n",
    "# Sr-Sr 3.905 \n",
    "# A (Sr): 2.15   \n",
    "# B(Ti): 1.47\n",
    "# C(O): 0.74\n",
    "\n",
    "from vpython import *\n",
    "\n",
    "#----------------------------------------------------------------------------\n",
    "L = 4\n",
    "\n",
    "bond = 3.905\n",
    "\n",
    "ra = 2.15/2/bond*1\n",
    "rb = 1.47/2/bond*1\n",
    "ro = 0.74/2/bond*1\n",
    "#----------------------------------------------------------------------------\n",
    "\n",
    "# center needs to be dyanmics\n",
    "canvas(background = color.black, width=600, length=600, center=vector(L/2,L/2,L/2))\n",
    "\n",
    "opatom = 1\n",
    "opbar = 1\n",
    "\n",
    "ra_items = []\n",
    "rb_items = []\n",
    "cylinder_items = []\n",
    "\n",
    "L1=L+1\n",
    "for i in range(0,L1):   #x\n",
    "    for j in range(0,L1): #y\n",
    "        for k in range(0,L1): #z\n",
    "#             print(i,j,k)\n",
    "            if ((i+j+k)%2) == 0:\n",
    "                b=sphere(pos = vector(i,j,k), radius = ra, color = color.magenta)\n",
    "                ra_items.append(b)\n",
    "            else:\n",
    "                b=sphere(pos = vector(i,j,k), radius = rb, color = color.green)\n",
    "                rb_items.append(b)\n",
    "            if i+1<=L:\n",
    "                b=cylinder(pos = vector(i,j,k), axis=vector(1,0,0),radius = .01, color = color.white)\n",
    "                cylinder_items.append(b)\n",
    "            if j+1<=L:\n",
    "                b=cylinder(pos = vector(i,j,k), axis=vector(0,1,0),radius = .01, color = color.white)\n",
    "                cylinder_items.append(b)\n",
    "            if k+1<=L:\n",
    "                b=cylinder(pos = vector(i,j,k), axis=vector(0,0,1),radius = .01, color = color.white)  \n",
    "                cylinder_items.append(b)\n",
    "# while True:  # Endless Loop Continuously Rotates Globe\n",
    "#     rate(100) #Sets Animation Speed\n",
    "#     for b in items:\n",
    "#         b.rotate(angle=.01, axis=vector(0,1,0), origin=vector(-1,-1,-1))\n",
    "\n",
    "def axis_number(cylinder):\n",
    "    if cylinder.axis.x != 0:\n",
    "#         print(\"0\")\n",
    "        axis_num = 0\n",
    "    elif cylinder.axis.y != 0:\n",
    "#         print(\"1\")\n",
    "        axis_num = 1\n",
    "    elif cylinder.axis.z != 0:\n",
    "#         print(\"2\")    \n",
    "        axis_num = 2\n",
    "    return axis_num\n",
    "file = open('nacl_v2_n4.csv','w+')\n",
    "file.write('#type,x,y,z,radius\\n')\n",
    "for i in range(len(ra_items)):\n",
    "#     print(items[i].pos.x,items[i].pos.y,items[i].pos.z,items[i].radius)\n",
    "    file.write(str(0)+','+str(ra_items[i].pos.x)+','+str(ra_items[i].pos.y)+','+str(ra_items[i].pos.z)+','+str(ra_items[i].radius)+','+\"na\"+'\\n')\n",
    "\n",
    "# for i in range(len(rb_items)):\n",
    "# #     print(items[i].pos.x,items[i].pos.y,items[i].pos.z,items[i].radius)\n",
    "#     file.write(str(0)+','+str(rb_items[i].pos.x)+','+str(rb_items[i].pos.y)+','+str(rb_items[i].pos.z)+','+str(rb_items[i].radius)+'\\n')\n",
    "\n",
    "# file.close()\n",
    "\n",
    "\n",
    "# file = open('nacl_v1_cylinder.csv','w')\n",
    "file.write('#type,x,y,z,axis,length\\n')\n",
    "\n",
    "for i in range(len(cylinder_items)):\n",
    "    axis_num = axis_number(cylinder_items[i])\n",
    "#     file.write(str(1)+','+str(cylinder_items[i].pos.x)+','+str(cylinder_items[i].pos.y)+','+str(cylinder_items[i].pos.z)+','+str(axis_num)+','+str(cylinder_items[i].radius)+'\\n')\n",
    "    file.write(str(1)+','+str(cylinder_items[i].pos.x)+','+str(cylinder_items[i].pos.y)+','+str(cylinder_items[i].pos.z)+','+str(axis_num)+','+str(cylinder_items[i].length)+'\\n')\n",
    "\n",
    "file.close()\n"
   ]
  },
  {
   "cell_type": "code",
   "execution_count": 9,
   "metadata": {},
   "outputs": [
    {
     "data": {
      "text/html": [
       "<div id=\"glowscript\" class=\"glowscript\"></div>"
      ],
      "text/plain": [
       "<IPython.core.display.HTML object>"
      ]
     },
     "metadata": {},
     "output_type": "display_data"
    },
    {
     "data": {
      "application/javascript": [
       "if (typeof Jupyter !== \"undefined\") { window.__context = { glowscript_container: $(\"#glowscript\").removeAttr(\"id\")};}else{ element.textContent = ' ';}"
      ],
      "text/plain": [
       "<IPython.core.display.Javascript object>"
      ]
     },
     "metadata": {},
     "output_type": "display_data"
    },
    {
     "ename": "NameError",
     "evalue": "name 'MathJax' is not defined",
     "output_type": "error",
     "traceback": [
      "\u001b[0;31m---------------------------------------------------------------------------\u001b[0m",
      "\u001b[0;31mNameError\u001b[0m                                 Traceback (most recent call last)",
      "\u001b[0;32m<ipython-input-9-20a6c733fef5>\u001b[0m in \u001b[0;36m<module>\u001b[0;34m\u001b[0m\n\u001b[1;32m    178\u001b[0m \u001b[0;31m#wo6 = wtext(text = rb)\u001b[0m\u001b[0;34m\u001b[0m\u001b[0;34m\u001b[0m\u001b[0;34m\u001b[0m\u001b[0m\n\u001b[1;32m    179\u001b[0m \u001b[0mscene5\u001b[0m\u001b[0;34m.\u001b[0m\u001b[0mappend_to_caption\u001b[0m\u001b[0;34m(\u001b[0m\u001b[0;34m\"\\n\"\u001b[0m\u001b[0;34m)\u001b[0m\u001b[0;34m\u001b[0m\u001b[0;34m\u001b[0m\u001b[0m\n\u001b[0;32m--> 180\u001b[0;31m \u001b[0mMathJax\u001b[0m\u001b[0;34m.\u001b[0m\u001b[0mHub\u001b[0m\u001b[0;34m.\u001b[0m\u001b[0mQueue\u001b[0m\u001b[0;34m(\u001b[0m\u001b[0;34m[\u001b[0m\u001b[0;34m\"Typeset\"\u001b[0m\u001b[0;34m,\u001b[0m\u001b[0mMathJax\u001b[0m\u001b[0;34m.\u001b[0m\u001b[0mHub\u001b[0m\u001b[0;34m]\u001b[0m\u001b[0;34m)\u001b[0m\u001b[0;34m\u001b[0m\u001b[0;34m\u001b[0m\u001b[0m\n\u001b[0m\u001b[1;32m    181\u001b[0m \u001b[0;34m\u001b[0m\u001b[0m\n\u001b[1;32m    182\u001b[0m \u001b[0;31m# Rotation\u001b[0m\u001b[0;34m\u001b[0m\u001b[0;34m\u001b[0m\u001b[0;34m\u001b[0m\u001b[0m\n",
      "\u001b[0;31mNameError\u001b[0m: name 'MathJax' is not defined"
     ]
    }
   ],
   "source": [
    "#GlowScript 2.8 VPython\n",
    "\n",
    "from vpython import *\n",
    "\n",
    "\n",
    "scene5=canvas(background = color.black, width=600, length=600, center=vector(0,0,0))\n",
    "#-------------------------------------\n",
    "L = 1\n",
    "bond_ab = 2.7266\n",
    "ra_int = 0.99\n",
    "rb_int = 1.91\n",
    "#--------------------------------------\n",
    "ra = ra_int/2/bond_ab*1\n",
    "rb = rb_int/2/bond_ab*1\n",
    "\n",
    "ra_item = []\n",
    "rb_item = []\n",
    "cylinder_item = []\n",
    "total_item = []\n",
    "running = False\n",
    "\n",
    "def build(L,ra,rb,ra_item,rb_item,cylinder_item,total_item):\n",
    "    #global total_item\n",
    "    for i in range(-L+1, L+1):\n",
    "        for j in range(-L+1, L+1):\n",
    "            for k in range(-L+1, L+1):\n",
    "                if ((i+j+k)%2) == 0:\n",
    "                    b=sphere(pos = vector(i-0.5,j-0.5,k-0.5), radius = ra, color = color.magenta)\n",
    "                    ra_item.append(b)\n",
    "                else:\n",
    "                    b=sphere(pos = vector(i-0.5,j-0.5,k-0.5), radius = rb, color = color.green)\n",
    "                    rb_item.append(b)\n",
    "                if i+1<=L:\n",
    "                    b=cylinder(pos = vector(i-0.5,j-0.5,k-0.5), axis=vector(1,0,0),radius = .01, color = color.white)\n",
    "                    cylinder_item.append(b)                \n",
    "                if j+1<=L:\n",
    "                    b=cylinder(pos = vector(i-0.5,j-0.5,k-0.5), axis=vector(0,1,0),radius = .01, color = color.white)\n",
    "                    cylinder_item.append(b)\n",
    "                if k+1<=L:\n",
    "                    b=cylinder(pos = vector(i-0.5,j-0.5,k-0.5), axis=vector(0,0,1),radius = .01, color = color.white)  \n",
    "                    cylinder_item.append(b)\n",
    "    total_item = ra_item + rb_item + cylinder_item\n",
    "    #print(len(total_item),len(ra_item),len(rb_item))\n",
    "    return ra_item,rb_item,cylinder_item,total_item\n",
    "\n",
    "def build_button(s):\n",
    "    global ra_item\n",
    "    global rb_item\n",
    "    global cylinder_item\n",
    "    global total_item\n",
    "    global running\n",
    "    running = not running\n",
    "    if running: s.text = \"Pause\"\n",
    "    else: s.text = \"Run\"\n",
    "    \n",
    "    #ra_item,rb_item,cylinder_item,total_item = build(L,ra,rb,ra_item,rb_item,cylinder_item,total_item)\n",
    "\n",
    "def clear():\n",
    "    for i in ra_item:\n",
    "        i.visible = False\n",
    "        del i\n",
    "    for i in rb_item:\n",
    "        i.visible = False\n",
    "        del i \n",
    "    for i in cylinder_item:\n",
    "        i.visible = False\n",
    "        del i\n",
    "\n",
    "# resetting button, rebuild based on inital parameters\n",
    "def reset():\n",
    "    global ra_item\n",
    "    global rb_item\n",
    "    global cylinder_item\n",
    "    global total_item\n",
    "    for i in ra_item:\n",
    "        i.visible = False\n",
    "        del i\n",
    "    for i in rb_item:\n",
    "        i.visible = False\n",
    "        del i \n",
    "    for i in cylinder_item:\n",
    "        i.visible = False\n",
    "        del i\n",
    "    ra_item,rb_item,cylinder_item,total_item = build(L,ra,rb,ra_item,rb_item,cylinder_item,total_item)\n",
    "\n",
    "# Function for setting bond_ab\n",
    "def set_bondab(s):\n",
    "    bond_ab = s.number\n",
    "    ra = ra_int/2/bond_ab*1\n",
    "    rb = rb_int/2/bond_ab*1\n",
    "    for x in ra_item:\n",
    "        x.radius = ra\n",
    "    for y in rb_item:\n",
    "        y.radius = rb\n",
    "    return bond_ab\n",
    "\n",
    "# Function for setting r_a\n",
    "def set_ra(s):\n",
    "    ra_int = s.number \n",
    "    ra = ra_int/2/bond_ab*1 \n",
    "    for x in ra_item:\n",
    "        x.radius = ra\n",
    "    return ra\n",
    "# Function for setting r_b\n",
    "def set_rb(s):\n",
    "    rb_int = s.number\n",
    "    rb = rb_int/2/bond_ab*1\n",
    "    for y in rb_item:\n",
    "        y.radius = rb\n",
    "    return rb\n",
    "# Setting distance L\n",
    "def set_L(s):\n",
    "    global ra_item\n",
    "    global rb_item\n",
    "    global cylinder_item\n",
    "    global total_item\n",
    "    L = s.number\n",
    "    clear()\n",
    "    ra_item,rb_item,cylinder_item,total_item = build(L,ra,rb,ra_item,rb_item,cylinder_item,total_item)\n",
    "#     #total_item = ra_item + rb_item + cylinder_item\n",
    "#     return ra_item,rb_item,cylinder_item#,total_item\n",
    "\n",
    "# inital build \n",
    "ra_item,rb_item,cylinder_item,total_item = build(L,ra,rb,ra_item,rb_item,cylinder_item,total_item)\n",
    "    #print(len(total_item),len(ra_item),len(rb_item))\n",
    "    \n",
    "# Heading explanation\n",
    "#############################################################################################\n",
    "wtext(text='<h2>FCC Lattice Example: Sodium Chloride (NaCl)</h2><hr>',pos= scene5.title_anchor)\n",
    "wtext(text='''Sodium Cloride, occurs natually as white crystals of salt, is an ionic compound with the chemical symbol\n",
    "\\\\(NaCl \\\\). It is composed of two types of elements (Sodium and Chloride) forming Face Center Cubic (FCC) \n",
    "lattice structure by repeating each cubic unit cell.\\n\\n''',pos= scene5.title_anchor)\n",
    "\n",
    "wtext(text='''<h3>Control</h3>\\\n",
    "<ul>\\\n",
    "<li><b>Rotate</b>: Right Button drag or Ctrl-drag</li>\\\n",
    "<li><b>Zoom</b>: Drag with middle button or use scroll wheel</li>\\\n",
    "</ul>''',pos= scene5.title_anchor)\n",
    "\n",
    "wtext(text='''<h3>Modifying Structure</h3>\\\n",
    "<ul>\\\n",
    "<li><b>L</b>: Number of Unit Cells(Integar Only)</li>\\\n",
    "<li><b>bond_ab</b>: Lattice Constant(\\\\(   \\\\unicode{x212B}   \\\\))(1\\\\(   \\\\unicode{x212B}   \\\\) = \\\\(10^{-10} \\\\)meter)</li>\\\n",
    "<li><b><font color = \"Purple\">r_a<font color = \"Black\"></b>: Atomic Radius of Sodium [<font color =\"Purple\">Purple<font color =\"black\">] (\\\\(   \\\\unicode{x212B}   \\\\))</li>\\\n",
    "<li><b><font color = \"Green\">r_b<font color = \"Black\"></b>: Atomic Radius of Chloride [<font color =\"Green\">Green<font color =\"black\">] (\\\\(   \\\\unicode{x212B}   \\\\))</li>\\\n",
    "</ul>''',pos= scene5.title_anchor)\n",
    "\n",
    "wtext(text='<hr>',pos = scene5.title_anchor)\n",
    "\n",
    "it0= wtext(text='<h5>Parameters:</h5>Adjust the lattice constants below to construct another FCC material.\\nPress <b>Enter key</b> after <b>every</b> changes to take effect.\\n')\n",
    "\n",
    "####################################################################################\n",
    "# Button\n",
    "b1 = button(text = \"Run\", pos = scene5.title_anchor,bind = build_button)\n",
    "b2 = button(text = \"Reset\", pos = scene5.title_anchor,bind = reset)\n",
    "\n",
    "# Parameters input box\n",
    "it1 = wtext(text='L: ')\n",
    "ib1 = winput(type = \"numeric\",pos=scene5.caption_anchor,bind=set_L,text=1)\n",
    "#wo4 = wtext(text = bond_ab)\n",
    "scene5.append_to_caption(\"\\n\")\n",
    "\n",
    "it2 = wtext(text='bond_ab: ')\n",
    "ib2 = winput(type = \"numeric\",pos=scene5.caption_anchor,bind=set_bondab, text = 2.7266)\n",
    "#wo4 = wtext(text = bond_ab)\n",
    "wtext(text = \"(\\\\(   \\\\unicode{x212B}   \\\\))\")\n",
    "scene5.append_to_caption(\"\\n\")\n",
    "\n",
    "it3 = wtext(text = 'ra: ')\n",
    "ib3 = winput(type = \"numeric\",pos=scene5.caption_anchor,bind=set_ra,text = 0.99)\n",
    "wtext(text = \"(\\\\(   \\\\unicode{x212B}   \\\\))\")\n",
    "#wo5 = wtext(text = ra)\n",
    "scene5.append_to_caption(\"\\n\")\n",
    "\n",
    "it4 = wtext(text = 'rb: ')\n",
    "ib4 = winput(type = \"numeric\",pos=scene5.caption_anchor,bind=set_rb,text=1.91)\n",
    "wtext(text = \"(\\\\(   \\\\unicode{x212B}   \\\\))\")\n",
    "#wo6 = wtext(text = rb)\n",
    "scene5.append_to_caption(\"\\n\")\n",
    "MathJax.Hub.Queue([\"Typeset\",MathJax.Hub])\n",
    "\n",
    "# Rotation\n",
    "while True:\n",
    "    rate(100)\n",
    "    if running:\n",
    "        for b in total_item:\n",
    "            b.rotate(angle=.01, axis=vector(0,1,0), origin=vector(0,0,0))\n",
    "\n",
    "\n"
   ]
  },
  {
   "cell_type": "code",
   "execution_count": 8,
   "metadata": {},
   "outputs": [
    {
     "data": {
      "text/html": [
       "<div id=\"glowscript\" class=\"glowscript\"></div>"
      ],
      "text/plain": [
       "<IPython.core.display.HTML object>"
      ]
     },
     "metadata": {},
     "output_type": "display_data"
    },
    {
     "data": {
      "application/javascript": [
       "if (typeof Jupyter !== \"undefined\") { window.__context = { glowscript_container: $(\"#glowscript\").removeAttr(\"id\")};}else{ element.textContent = ' ';}"
      ],
      "text/plain": [
       "<IPython.core.display.Javascript object>"
      ]
     },
     "metadata": {},
     "output_type": "display_data"
    }
   ],
   "source": [
    "from vpython import *\n",
    "scene5=canvas(background = color.black, width=600, length=600, center=vector(0,0,0))\n",
    "###\n",
    "\n",
    "wtext(text='<h2>FCC Lattice Example: Sodium Chloride (NaCl)</h2><hr>',pos= scene5.title_anchor)\n",
    "wtext(text='''Sodium Cloride, occurs natually as white crystals of salt, is an ionic compound with the chemical symbol\n",
    "\\\\(NaCl \\\\). It is composed of two types of elements (Sodium and Chloride) forming Face Center Cubic (FCC) \n",
    "lattice structure by repeating each cubic unit cell.\\n\\n''',pos= scene5.title_anchor)\n",
    "\n",
    "wtext(text='''<h3>Control</h3>\\\n",
    "<ul>\\\n",
    "<li><b>Rotate</b>: Right Button drag or Ctrl-drag</li>\\\n",
    "<li><b>Zoom</b>: Drag with middle button or use scroll wheel</li>\\\n",
    "</ul>''',pos= scene5.title_anchor)\n",
    "\n",
    "wtext(text='''<h3>Modifying Structure</h3>\\\n",
    "<ul>\\\n",
    "<li><b>L</b>: Number of Unit Cells(Integar Only)</li>\\\n",
    "<li><b>bond_ab</b>: Lattice Constant(\\\\(   \\\\unicode{x212B}   \\\\))(1\\\\(   \\\\unicode{x212B}   \\\\) = \\\\(10^{-10} \\\\)meter)</li>\\\n",
    "<li><b><font color = \"Purple\">r_a<font color = \"Black\"></b>: Atomic Radius of Sodium [<font color =\"Purple\">Purple<font color =\"black\">] (\\\\(   \\\\unicode{x212B}   \\\\))</li>\\\n",
    "<li><b><font color = \"Green\">r_b<font color = \"Black\"></b>: Atomic Radius of Chloride [<font color =\"Green\">Green<font color =\"black\">] (\\\\(   \\\\unicode{x212B}   \\\\))</li>\\\n",
    "</ul>''',pos= scene5.title_anchor)\n",
    "\n",
    "wtext(text='<hr>',pos = scene5.title_anchor)\n",
    "\n",
    "it0= wtext(text='<h5>Parameters:</h5>Adjust the lattice constants below to construct another FCC material.\\nPress <b>Enter key</b> after <b>every</b> changes to take effect.\\n')\n"
   ]
  },
  {
   "cell_type": "code",
   "execution_count": null,
   "metadata": {},
   "outputs": [],
   "source": []
  }
 ],
 "metadata": {
  "kernelspec": {
   "display_name": "VPython",
   "language": "python",
   "name": "vpython"
  },
  "language_info": {
   "codemirror_mode": {
    "name": "ipython",
    "version": 3
   },
   "file_extension": ".py",
   "mimetype": "text/x-python",
   "name": "python",
   "nbconvert_exporter": "python",
   "pygments_lexer": "ipython3",
   "version": "3.7.3"
  },
  "varInspector": {
   "cols": {
    "lenName": 16,
    "lenType": 16,
    "lenVar": 40
   },
   "kernels_config": {
    "python": {
     "delete_cmd_postfix": "",
     "delete_cmd_prefix": "del ",
     "library": "var_list.py",
     "varRefreshCmd": "print(var_dic_list())"
    },
    "r": {
     "delete_cmd_postfix": ") ",
     "delete_cmd_prefix": "rm(",
     "library": "var_list.r",
     "varRefreshCmd": "cat(var_dic_list()) "
    }
   },
   "types_to_exclude": [
    "module",
    "function",
    "builtin_function_or_method",
    "instance",
    "_Feature"
   ],
   "window_display": false
  }
 },
 "nbformat": 4,
 "nbformat_minor": 2
}
