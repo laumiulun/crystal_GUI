{
 "cells": [
  {
   "cell_type": "code",
   "execution_count": null,
   "metadata": {},
   "outputs": [
    {
     "data": {
      "application/javascript": [
       "if (typeof Jupyter !== \"undefined\") {require.undef(\"nbextensions/vpython_libraries/glow.min\");}else{element.textContent = ' ';}"
      ],
      "text/plain": [
       "<IPython.core.display.Javascript object>"
      ]
     },
     "metadata": {},
     "output_type": "display_data"
    },
    {
     "data": {
      "application/javascript": [
       "if (typeof Jupyter !== \"undefined\") {require.undef(\"nbextensions/vpython_libraries/glowcomm\");}else{element.textContent = ' ';}"
      ],
      "text/plain": [
       "<IPython.core.display.Javascript object>"
      ]
     },
     "metadata": {},
     "output_type": "display_data"
    },
    {
     "data": {
      "application/javascript": [
       "if (typeof Jupyter !== \"undefined\") {require.undef(\"nbextensions/vpython_libraries/jquery-ui.custom.min\");}else{element.textContent = ' ';}"
      ],
      "text/plain": [
       "<IPython.core.display.Javascript object>"
      ]
     },
     "metadata": {},
     "output_type": "display_data"
    },
    {
     "data": {
      "application/javascript": [
       "if (typeof Jupyter !== \"undefined\") {require([\"nbextensions/vpython_libraries/glow.min\"], function(){console.log(\"GLOW LOADED\");});}else{element.textContent = ' ';}"
      ],
      "text/plain": [
       "<IPython.core.display.Javascript object>"
      ]
     },
     "metadata": {},
     "output_type": "display_data"
    },
    {
     "data": {
      "application/javascript": [
       "if (typeof Jupyter !== \"undefined\") {require([\"nbextensions/vpython_libraries/glowcomm\"], function(){console.log(\"GLOWCOMM LOADED\");});}else{element.textContent = ' ';}"
      ],
      "text/plain": [
       "<IPython.core.display.Javascript object>"
      ]
     },
     "metadata": {},
     "output_type": "display_data"
    },
    {
     "data": {
      "application/javascript": [
       "if (typeof Jupyter !== \"undefined\") {require([\"nbextensions/vpython_libraries/jquery-ui.custom.min\"], function(){console.log(\"JQUERY LOADED\");});}else{element.textContent = ' ';}"
      ],
      "text/plain": [
       "<IPython.core.display.Javascript object>"
      ]
     },
     "metadata": {},
     "output_type": "display_data"
    },
    {
     "data": {
      "text/html": [
       "<div id=\"glowscript\" class=\"glowscript\"></div>"
      ],
      "text/plain": [
       "<IPython.core.display.HTML object>"
      ]
     },
     "metadata": {},
     "output_type": "display_data"
    },
    {
     "data": {
      "application/javascript": [
       "if (typeof Jupyter !== \"undefined\") { window.__context = { glowscript_container: $(\"#glowscript\").removeAttr(\"id\")};}else{ element.textContent = ' ';}"
      ],
      "text/plain": [
       "<IPython.core.display.Javascript object>"
      ]
     },
     "metadata": {},
     "output_type": "display_data"
    },
    {
     "data": {
      "text/html": [
       "<div id=\"glowscript\" class=\"glowscript\"></div>"
      ],
      "text/plain": [
       "<IPython.core.display.HTML object>"
      ]
     },
     "metadata": {},
     "output_type": "display_data"
    },
    {
     "data": {
      "application/javascript": [
       "if (typeof Jupyter !== \"undefined\") { window.__context = { glowscript_container: $(\"#glowscript\").removeAttr(\"id\")};}else{ element.textContent = ' ';}"
      ],
      "text/plain": [
       "<IPython.core.display.Javascript object>"
      ]
     },
     "metadata": {},
     "output_type": "display_data"
    }
   ],
   "source": [
    "# NaCl\n",
    "# Na = 1.91\n",
    "# Cl = 0.99\n",
    "# Na-Cl = 2.7266\n",
    "\n",
    "from vpython import *\n",
    "\n",
    "#----------------------------------------------------------------------------\n",
    "L = 1\n",
    "bond_ab = 2.7266\n",
    "ra = 1.91/2/bond_ab*1\n",
    "rb = 0.99/2/bond_ab*1\n",
    "#----------------------------------------------------------------------------\n",
    "canvas(background = color.black, width=600, length=600, center=vector(0,0,0))\n",
    "\n",
    "items = []\n",
    "\n",
    "opb = 0.7\n",
    "opa =0.7\n",
    "opbar = 0.5\n",
    "\n",
    "for i in range(-L, L+1):\n",
    "    for j in range(-L, L+1):\n",
    "        for k in range(-L, L+1):\n",
    "            if ((i+j+k)%2) == 0:\n",
    "                b=sphere(pos = vector(i,j,k), radius = rb, color = color.magenta)\n",
    "                items.append(b)\n",
    "            else:\n",
    "                b=sphere(pos = vector(i,j,k), radius = ra, color = color.green)\n",
    "                items.append(b)\n",
    "            if i+1<=L:\n",
    "                b=cylinder(pos = vector(i,j,k), axis=vector(1,0,0),radius = .01, color = color.white)\n",
    "                items.append(b)                \n",
    "            if j+1<=L:\n",
    "                b=cylinder(pos = vector(i,j,k), axis=vector(0,1,0),radius = .01, color = color.white)\n",
    "                items.append(b)\n",
    "            if k+1<=L:\n",
    "                b=cylinder(pos = vector(i,j,k), axis=vector(0,0,1),radius = .01, color = color.white)  \n",
    "                items.append(b)\n",
    "\n",
    "\n",
    "while True:  # Endless Loop Continuously Rotates Globe\n",
    "    rate(100) #Sets Animation Speed\n",
    "    for b in items:\n",
    "        b.rotate(angle=.01, axis=vector(0,1,0), origin=vector(0,0,0))\n",
    "\n",
    "\n",
    "                    \n",
    "\n"
   ]
  },
  {
   "cell_type": "code",
   "execution_count": null,
   "metadata": {},
   "outputs": [],
   "source": []
  },
  {
   "cell_type": "code",
   "execution_count": null,
   "metadata": {},
   "outputs": [],
   "source": []
  }
 ],
 "metadata": {
  "kernelspec": {
   "display_name": "VPython",
   "language": "python",
   "name": "vpython"
  },
  "language_info": {
   "codemirror_mode": {
    "name": "ipython",
    "version": 2
   },
   "file_extension": ".py",
   "mimetype": "text/x-python",
   "name": "python",
   "nbconvert_exporter": "python",
   "pygments_lexer": "ipython2",
   "version": "2.7.15"
  }
 },
 "nbformat": 4,
 "nbformat_minor": 2
}
