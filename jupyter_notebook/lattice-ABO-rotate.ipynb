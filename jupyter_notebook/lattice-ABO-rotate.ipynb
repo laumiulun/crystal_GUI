{
 "cells": [
  {
   "cell_type": "code",
   "execution_count": null,
   "metadata": {
    "scrolled": true
   },
   "outputs": [
    {
     "data": {
      "text/html": [
       "<div id=\"glowscript\" class=\"glowscript\"></div>"
      ],
      "text/plain": [
       "<IPython.core.display.HTML object>"
      ]
     },
     "metadata": {},
     "output_type": "display_data"
    },
    {
     "data": {
      "application/javascript": [
       "if (typeof Jupyter !== \"undefined\") { window.__context = { glowscript_container: $(\"#glowscript\").removeAttr(\"id\")};}else{ element.textContent = ' ';}"
      ],
      "text/plain": [
       "<IPython.core.display.Javascript object>"
      ]
     },
     "metadata": {},
     "output_type": "display_data"
    }
   ],
   "source": [
    "# SrTiO3\n",
    "\n",
    "# Sr-Sr 3.905 \n",
    "# A (Sr): 2.15   \n",
    "# B(Ti): 1.47\n",
    "# C(O): 0.74\n",
    "\n",
    "from vpython import *\n",
    "\n",
    "#----------------------------------------------------------------------------\n",
    "L = 1\n",
    "\n",
    "bond = 3.905\n",
    "\n",
    "ra = 2.15/2/bond*1\n",
    "rb = 1.47/2/bond*1\n",
    "ro = 0.74/2/bond*1\n",
    "#----------------------------------------------------------------------------\n",
    "\n",
    "\n",
    "canvas(background = color.black, width=600, length=600, center=vector(-1,-1,-1))\n",
    "\n",
    "opatom = 1\n",
    "opbar = 1\n",
    "\n",
    "items = []\n",
    "\n",
    "\n",
    "L1 = L\n",
    "LB = L-1\n",
    "LN1 = L-1\n",
    "for i in range(-L, L1):\n",
    "    for j in range(-L, L1):\n",
    "        for k in range(-L, L1):\n",
    "            # plot A: Green\n",
    "            for na in range(-1,0):\n",
    "                v0=vector(i+1/2*na,j+1/2*na,k+1/2*na)\n",
    "                b=sphere(pos = v0, radius = ra, color = color.green, opacity=opatom) \n",
    "                items.append(b)\n",
    "                if i< LN1:\n",
    "                    b=cylinder(pos = v0, axis=vector(1,0,0),radius = .01, color = color.white, opacity=0)\n",
    "                    items.append(b)\n",
    "                if j< LN1:\n",
    "                    b=cylinder(pos = v0, axis=vector(0,1,0),radius = .01, color = color.white, opacity=0)\n",
    "                    items.append(b)\n",
    "                if k< LN1:\n",
    "                    b=cylinder(pos = v0, axis=vector(0,0,1),radius = .01, color = color.white, opacity=0)\n",
    "                    items.append(b)\n",
    "            # plot B: Blue\n",
    "            if(i<LB and j<LB and k<LB):\n",
    "                b=sphere(pos = vector(i,j,k), radius = rb, color = vector(0.0,0.7,1), opacity=opatom)\n",
    "                items.append(b)\n",
    "                # plot O: red\n",
    "                v=[vector(i-1/2,j,k), vector(i+1/2,j,k), vector(i,j-1/2,k), vector(i,j+1/2,k), \\\n",
    "                   vector(i,j,k-1/2), vector(i,j,k+1/2)]\n",
    "                for x in v:\n",
    "                    b=sphere(pos = x, radius = ro, color = color.red, opacity=opatom)\n",
    "                    items.append(b)\n",
    "                for m in range(2,6):\n",
    "                    b=cylinder(pos = v[0], axis=v[m]-v[0],radius = .01, color = color.white, opacity=opbar)\n",
    "                    items.append(b)\n",
    "                    b=cylinder(pos = v[1], axis=v[m]-v[1],radius = .01, color = color.white, opacity=opbar)\n",
    "                    items.append(b)\n",
    "                for m in range(4,6):\n",
    "                    b=cylinder(pos = v[2], axis=v[m]-v[2],radius = .01, color = color.white, opacity=opbar)\n",
    "                    items.append(b)\n",
    "                    b=cylinder(pos = v[3], axis=v[m]-v[3],radius = .01, color = color.white, opacity=opbar)\n",
    "                    items.append(b)\n",
    "\n",
    "while True:  # Endless Loop Continuously Rotates Globe\n",
    "    rate(100) #Sets Animation Speed\n",
    "    for b in items:\n",
    "        b.rotate(angle=.01, axis=vector(0,1,0), origin=vector(-1,-1,-1))\n",
    "\n",
    "\n",
    "                    \n",
    "\n"
   ]
  },
  {
   "cell_type": "code",
   "execution_count": null,
   "metadata": {},
   "outputs": [],
   "source": []
  },
  {
   "cell_type": "code",
   "execution_count": null,
   "metadata": {},
   "outputs": [],
   "source": []
  }
 ],
 "metadata": {
  "kernelspec": {
   "display_name": "VPython",
   "language": "python",
   "name": "vpython"
  },
  "language_info": {
   "codemirror_mode": {
    "name": "ipython",
    "version": 3
   },
   "file_extension": ".py",
   "mimetype": "text/x-python",
   "name": "python",
   "nbconvert_exporter": "python",
   "pygments_lexer": "ipython3",
   "version": "3.7.3"
  }
 },
 "nbformat": 4,
 "nbformat_minor": 2
}
