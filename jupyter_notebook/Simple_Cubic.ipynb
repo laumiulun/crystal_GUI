{
 "cells": [
  {
   "cell_type": "code",
   "execution_count": 1,
   "metadata": {
    "scrolled": false
   },
   "outputs": [
    {
     "data": {
      "text/html": [
       "<div id=\"glowscript\" class=\"glowscript\"></div>"
      ],
      "text/plain": [
       "<IPython.core.display.HTML object>"
      ]
     },
     "metadata": {},
     "output_type": "display_data"
    },
    {
     "data": {
      "application/javascript": [
       "if (typeof Jupyter !== \"undefined\") { window.__context = { glowscript_container: $(\"#glowscript\").removeAttr(\"id\")};}else{ element.textContent = ' ';}"
      ],
      "text/plain": [
       "<IPython.core.display.Javascript object>"
      ]
     },
     "metadata": {},
     "output_type": "display_data"
    },
    {
     "data": {
      "text/html": [
       "<div id=\"glowscript\" class=\"glowscript\"></div>"
      ],
      "text/plain": [
       "<IPython.core.display.HTML object>"
      ]
     },
     "metadata": {},
     "output_type": "display_data"
    },
    {
     "data": {
      "application/javascript": [
       "if (typeof Jupyter !== \"undefined\") { window.__context = { glowscript_container: $(\"#glowscript\").removeAttr(\"id\")};}else{ element.textContent = ' ';}"
      ],
      "text/plain": [
       "<IPython.core.display.Javascript object>"
      ]
     },
     "metadata": {},
     "output_type": "display_data"
    },
    {
     "data": {
      "application/javascript": [
       "if (typeof Jupyter !== \"undefined\") {require.undef(\"nbextensions/vpython_libraries/glow.min\");}else{element.textContent = ' ';}"
      ],
      "text/plain": [
       "<IPython.core.display.Javascript object>"
      ]
     },
     "metadata": {},
     "output_type": "display_data"
    },
    {
     "data": {
      "application/javascript": [
       "if (typeof Jupyter !== \"undefined\") {require.undef(\"nbextensions/vpython_libraries/glowcomm\");}else{element.textContent = ' ';}"
      ],
      "text/plain": [
       "<IPython.core.display.Javascript object>"
      ]
     },
     "metadata": {},
     "output_type": "display_data"
    },
    {
     "data": {
      "application/javascript": [
       "if (typeof Jupyter !== \"undefined\") {require.undef(\"nbextensions/vpython_libraries/jquery-ui.custom.min\");}else{element.textContent = ' ';}"
      ],
      "text/plain": [
       "<IPython.core.display.Javascript object>"
      ]
     },
     "metadata": {},
     "output_type": "display_data"
    },
    {
     "data": {
      "application/javascript": [
       "if (typeof Jupyter !== \"undefined\") {require([\"nbextensions/vpython_libraries/glow.min\"], function(){console.log(\"GLOW LOADED\");});}else{element.textContent = ' ';}"
      ],
      "text/plain": [
       "<IPython.core.display.Javascript object>"
      ]
     },
     "metadata": {},
     "output_type": "display_data"
    },
    {
     "data": {
      "application/javascript": [
       "if (typeof Jupyter !== \"undefined\") {require([\"nbextensions/vpython_libraries/glowcomm\"], function(){console.log(\"GLOWCOMM LOADED\");});}else{element.textContent = ' ';}"
      ],
      "text/plain": [
       "<IPython.core.display.Javascript object>"
      ]
     },
     "metadata": {},
     "output_type": "display_data"
    },
    {
     "data": {
      "application/javascript": [
       "if (typeof Jupyter !== \"undefined\") {require([\"nbextensions/vpython_libraries/jquery-ui.custom.min\"], function(){console.log(\"JQUERY LOADED\");});}else{element.textContent = ' ';}"
      ],
      "text/plain": [
       "<IPython.core.display.Javascript object>"
      ]
     },
     "metadata": {},
     "output_type": "display_data"
    }
   ],
   "source": [
    "\n",
    "\n",
    "from vpython import *\n",
    "\n",
    "#----------------------------------------------------------------------------\n",
    "L = 2\n",
    "bond = 3.905\n",
    "base_layer = 3\n",
    "ra = 2.15/2/bond*1\n",
    "rb = 1.47/2/bond*1\n",
    "ro = 0.74/2/bond*1\n",
    "#----------------------------------------------------------------------------\n",
    "\n",
    "# center needs to be dyanmics\n",
    "scene1 = canvas(background = color.black, width=600, length=600, center=vector(0,0,0))\n",
    "scene1.autoscale = False\n",
    "\n",
    "sphere(radius = 0.1)\n",
    "pointer_x = arrow(pos=vector(0,0,0),axis = vector(1,0,0),shaft_width = 0.5,color=color.red)\n",
    "pointer_y = arrow(pos=vector(0,0,0),axis = vector(0,1,0),shaft_width = 0.5,color=color.green)\n",
    "pointer_y = arrow(pos=vector(0,0,0),axis = vector(0,0,1),shaft_width = 0.5,color=color.blue)\n",
    "\n",
    "opatom = 1\n",
    "opbar = 1\n",
    "\n",
    "items = []\n",
    "## Dr Long Code\n",
    "# for i in range(-L, L+1):\n",
    "#     for j in range(-L, L+1):\n",
    "#         for k in range(-L, L+1):\n",
    "#             if ((i+j+k)%2) == 0:\n",
    "#                 # magenta is sodium atom\n",
    "#                 b=sphere(pos = vector(i,j,k), radius = ra, color = color.magenta)\n",
    "#                 items.append(b)\n",
    "#             else:\n",
    "#                 # green is the clorine atom\n",
    "#                 b=sphere(pos = vector(i,j,k), radius = rb, color = color.green)\n",
    "#                 items.append(b)\n",
    "#             if i+1<=L:\n",
    "#                 b=cylinder(pos = vector(i,j,k), axis=vector(1,0,0),radius = .01, color = color.white)\n",
    "#                 items.append(b)                \n",
    "#             if j+1<=L:\n",
    "#                 b=cylinder(pos = vector(i,j,k), axis=vector(0,1,0),radius = .01, color = color.white)\n",
    "#                 items.append(b)\n",
    "#             if k+1<=L:\n",
    "#                 b=cylinder(pos = vector(i,j,k), axis=vector(0,0,1),radius = .01, color = color.white)  \n",
    "#                 items.append(b)\n",
    "\n",
    "\n",
    "# L1 number of layers\n",
    "\n",
    "#L1= 2*L+base_layer-2\n",
    "\n",
    "L1 = L + 1\n",
    "# 1 - 2 \n",
    "\n",
    "# 2 - 3\n",
    "\n",
    "# 3 - 4\n",
    "\n",
    "# 4 - 5\n",
    "\n",
    "## need to account for even and odd:\n",
    "\n",
    "ra_items = []\n",
    "rb_items = []\n",
    "cylinder_items = []\n",
    "\n",
    "for i in range(-L1,L1):   #x\n",
    "    for j in range(-L1,L1): #y\n",
    "        for k in range(-L1,L1): #z\n",
    "            if (L%2) == 0 :\n",
    "                if ((i+j+k)%2) == 0:\n",
    "#                     print(i,j,k)\n",
    "                    if i%2==0 and j%2==0 and k%2==0:\n",
    "                        b=sphere(pos = vector(i,j,k), radius = ra, color = color.green)\n",
    "                        ra_items.append(b)\n",
    "                if i%2==0 and j%2==0 and k%2==0:\n",
    "                    if i+1<=L1-1:\n",
    "                        b=cylinder(pos = vector(i,j,k), axis=vector(2,0,0),radius = .01, color = color.white)\n",
    "                        cylinder_items.append(b)\n",
    "                    if j+1<=L1-1:\n",
    "                        b=cylinder(pos = vector(i,j,k), axis=vector(0,2,0),radius = .01, color = color.white)\n",
    "                        cylinder_items.append(b)\n",
    "                    if k+1<=L1-1:\n",
    "                        b=cylinder(pos = vector(i,j,k), axis=vector(0,0,2),radius = .01, color = color.white)  \n",
    "                        cylinder_items.append(b)\n",
    "            else :     \n",
    "                if ((i+j+k)%2) == 0:\n",
    "#                     print(i,j,k)\n",
    "                    if i%2==0 and j%2==0 and k%2==0:\n",
    "                        b=sphere(pos = vector(i+1,j+1,k+1), radius = ra, color = color.green)\n",
    "                        ra_items.append(b)\n",
    "                if i%2==0 and j%2==0 and k%2==0:\n",
    "                    if i<L1-2:\n",
    "                        b=cylinder(pos = vector(i+1,j+1,k+1), axis=vector(2,0,0),radius = .01, color = color.white)\n",
    "                        cylinder_items.append(b)\n",
    "                    if j<L1-2:\n",
    "                        b=cylinder(pos = vector(i+1,j+1,k+1), axis=vector(0,2,0),radius = .01, color = color.white)\n",
    "                        cylinder_items.append(b)\n",
    "                    if k<L1-2:\n",
    "                        b=cylinder(pos = vector(i+1,j+1,k+1), axis=vector(0,0,2),radius = .01, color = color.white)  \n",
    "                        cylinder_items.append(b)\n",
    "\n",
    "        \n",
    "def axis_number(cylinder):\n",
    "    if cylinder.axis.x != 0:\n",
    "#         print(\"0\")\n",
    "        axis_num = 0\n",
    "    elif cylinder.axis.y != 0:\n",
    "#         print(\"1\")\n",
    "        axis_num = 1\n",
    "    elif cylinder.axis.z != 0:\n",
    "#         print(\"2\")    \n",
    "        axis_num = 2\n",
    "    return axis_num\n",
    "file = open('cubic_n2.csv','w+')\n",
    "file.write('#type,x,y,z,radius\\n')\n",
    "for i in range(len(ra_items)):\n",
    "#     print(items[i].pos.x,items[i].pos.y,items[i].pos.z,items[i].radius)\n",
    "    file.write(str(0)+','+str(ra_items[i].pos.x)+','+str(ra_items[i].pos.y)+','+str(ra_items[i].pos.z)+','+str(ra_items[i].radius)+','+\"na\"+'\\n')\n",
    "\n",
    "# for i in range(len(rb_items)):\n",
    "# #     print(items[i].pos.x,items[i].pos.y,items[i].pos.z,items[i].radius)\n",
    "#     file.write(str(0)+','+str(rb_items[i].pos.x)+','+str(rb_items[i].pos.y)+','+str(rb_items[i].pos.z)+','+str(rb_items[i].radius)+'\\n')\n",
    "\n",
    "# file.close()\n",
    "\n",
    "\n",
    "# file = open('nacl_v1_cylinder.csv','w')\n",
    "file.write('#type,x,y,z,axis,length\\n')\n",
    "\n",
    "for i in range(len(cylinder_items)):\n",
    "    axis_num = axis_number(cylinder_items[i])\n",
    "#     file.write(str(1)+','+str(cylinder_items[i].pos.x)+','+str(cylinder_items[i].pos.y)+','+str(cylinder_items[i].pos.z)+','+str(axis_num)+','+str(cylinder_items[i].radius)+'\\n')\n",
    "    file.write(str(1)+','+str(cylinder_items[i].pos.x)+','+str(cylinder_items[i].pos.y)+','+str(cylinder_items[i].pos.z)+','+str(axis_num)+','+str(cylinder_items[i].length)+'\\n')\n",
    "\n",
    "file.close()\n"
   ]
  },
  {
   "cell_type": "code",
   "execution_count": null,
   "metadata": {
    "scrolled": false
   },
   "outputs": [
    {
     "data": {
      "text/html": [
       "<div id=\"glowscript\" class=\"glowscript\"></div>"
      ],
      "text/plain": [
       "<IPython.core.display.HTML object>"
      ]
     },
     "metadata": {},
     "output_type": "display_data"
    },
    {
     "data": {
      "application/javascript": [
       "if (typeof Jupyter !== \"undefined\") { window.__context = { glowscript_container: $(\"#glowscript\").removeAttr(\"id\")};}else{ element.textContent = ' ';}"
      ],
      "text/plain": [
       "<IPython.core.display.Javascript object>"
      ]
     },
     "metadata": {},
     "output_type": "display_data"
    },
    {
     "data": {
      "text/html": [
       "<div id=\"glowscript\" class=\"glowscript\"></div>"
      ],
      "text/plain": [
       "<IPython.core.display.HTML object>"
      ]
     },
     "metadata": {},
     "output_type": "display_data"
    },
    {
     "data": {
      "application/javascript": [
       "if (typeof Jupyter !== \"undefined\") { window.__context = { glowscript_container: $(\"#glowscript\").removeAttr(\"id\")};}else{ element.textContent = ' ';}"
      ],
      "text/plain": [
       "<IPython.core.display.Javascript object>"
      ]
     },
     "metadata": {},
     "output_type": "display_data"
    },
    {
     "data": {
      "application/javascript": [
       "if (typeof Jupyter !== \"undefined\") {require.undef(\"nbextensions/vpython_libraries/glow.min\");}else{element.textContent = ' ';}"
      ],
      "text/plain": [
       "<IPython.core.display.Javascript object>"
      ]
     },
     "metadata": {},
     "output_type": "display_data"
    },
    {
     "data": {
      "application/javascript": [
       "if (typeof Jupyter !== \"undefined\") {require.undef(\"nbextensions/vpython_libraries/glowcomm\");}else{element.textContent = ' ';}"
      ],
      "text/plain": [
       "<IPython.core.display.Javascript object>"
      ]
     },
     "metadata": {},
     "output_type": "display_data"
    },
    {
     "data": {
      "application/javascript": [
       "if (typeof Jupyter !== \"undefined\") {require.undef(\"nbextensions/vpython_libraries/jquery-ui.custom.min\");}else{element.textContent = ' ';}"
      ],
      "text/plain": [
       "<IPython.core.display.Javascript object>"
      ]
     },
     "metadata": {},
     "output_type": "display_data"
    },
    {
     "data": {
      "application/javascript": [
       "if (typeof Jupyter !== \"undefined\") {require([\"nbextensions/vpython_libraries/glow.min\"], function(){console.log(\"GLOW LOADED\");});}else{element.textContent = ' ';}"
      ],
      "text/plain": [
       "<IPython.core.display.Javascript object>"
      ]
     },
     "metadata": {},
     "output_type": "display_data"
    },
    {
     "data": {
      "application/javascript": [
       "if (typeof Jupyter !== \"undefined\") {require([\"nbextensions/vpython_libraries/glowcomm\"], function(){console.log(\"GLOWCOMM LOADED\");});}else{element.textContent = ' ';}"
      ],
      "text/plain": [
       "<IPython.core.display.Javascript object>"
      ]
     },
     "metadata": {},
     "output_type": "display_data"
    },
    {
     "data": {
      "application/javascript": [
       "if (typeof Jupyter !== \"undefined\") {require([\"nbextensions/vpython_libraries/jquery-ui.custom.min\"], function(){console.log(\"JQUERY LOADED\");});}else{element.textContent = ' ';}"
      ],
      "text/plain": [
       "<IPython.core.display.Javascript object>"
      ]
     },
     "metadata": {},
     "output_type": "display_data"
    }
   ],
   "source": [
    "from vpython import *\n",
    "\n",
    "scene5=canvas(background = color.black, width=600, length=600, center=vector(0,0,0))\n",
    "#-------------------------------------\n",
    "L = 1\n",
    "ra_int = 1.67\n",
    "bond_ab = ra_int\n",
    "rb_int = 1\n",
    "\n",
    "bond_default_text = str(bond_ab)\n",
    "ra_default_text = str(ra_int)\n",
    "rb_default_text = str(rb_int)\n",
    "\n",
    "scale_factor = 0.5\n",
    "scale_default_text = str(scale_factor)\n",
    "\n",
    "#--------------------------------------\n",
    "ra = ra_int/bond_ab*1*scale_factor   # bond in figure will be scaled to \"1\"\n",
    "#rb = rb_int/bond_ab*1*scale_factor   # because bond_ab = bond_ab/bound_ab = 1\n",
    "\n",
    "\n",
    "# Camera attributes\n",
    "scene5.autoscale = True\n",
    "\n",
    "# Debugging x y z\n",
    "# sphere(radius = 0.2)\n",
    "# pointer_x = arrow(pos=vector(0,0,0),axis = vector(1,0,0),shaft_width = 0.5,color=color.red)\n",
    "# pointer_y = arrow(pos=vector(0,0,0),axis = vector(0,1,0),shaft_width = 0.5,color=color.green)\n",
    "# pointer_y = arrow(pos=vector(0,0,0),axis = vector(0,0,1),shaft_width = 0.5,color=color.blue)\n",
    "\n",
    "\n",
    "ra_item = []\n",
    "rb_item = []\n",
    "cylinder_item = []\n",
    "total_item = []\n",
    "running = False\n",
    "\n",
    "def axis_number(cylinder):\n",
    "    if cylinder.axis.x != 0:\n",
    "#         print(\"0\")\n",
    "        axis_num = 0\n",
    "    elif cylinder.axis.y != 0:\n",
    "#         print(\"1\")\n",
    "        axis_num = 1\n",
    "    elif cylinder.axis.z != 0:\n",
    "#         print(\"2\")    \n",
    "        axis_num = 2\n",
    "    return axis_num\n",
    "\n",
    "def gen_csv():\n",
    "    file = open('nacl_v1.csv','w+')\n",
    "    file.write('#type,x,y,z,radius\\n')\n",
    "    # writing ra and rb items\n",
    "    for i in range(len(ra_item)):\n",
    "    #     print(items[i].pos.x,items[i].pos.y,items[i].pos.z,items[i].radius)\n",
    "        file.write(str(0)+','+str(ra_item[i].pos.x)+','+str(ra_item[i].pos.y)+','+str(ra_item[i].pos.z)+','+str(ra_item[i].radius)+'\\n')\n",
    "\n",
    "#     for i in range(len(rb_item)):\n",
    "#     #     print(items[i].pos.x,items[i].pos.y,items[i].pos.z,items[i].radius)\n",
    "#         file.write(str(0)+','+str(rb_item[i].pos.x)+','+str(rb_item[i].pos.y)+','+str(rb_item[i].pos.z)+','+str(rb_item[i].radius)+'\\n')\n",
    "\n",
    "    # writing cylinder \n",
    "    file.write('#type,x,y,z,axis\\n')\n",
    "    for i in range(len(cylinder_item)):\n",
    "        axis_num = axis_number(cylinder_item[i])\n",
    "    #     file.write(str(1)+','+str(cylinder_items[i].pos.x)+','+str(cylinder_items[i].pos.y)+','+str(cylinder_items[i].pos.z)+','+str(axis_num)+','+str(cylinder_items[i].radius)+'\\n')\n",
    "        file.write(str(1)+','+str(cylinder_item[i].pos.x)+','+str(cylinder_item[i].pos.y)+','+str(cylinder_item[i].pos.z)+','+str(axis_num)+'\\n')\n",
    "    file.close()             \n",
    "\n",
    "def print_csv():\n",
    "    global string\n",
    "    global it5\n",
    "    \n",
    "    it5 = wtext(text=\"\")\n",
    "    it5.text = \"\"\n",
    "\n",
    "# wtext(text = \"\"\"<p style=\"border:3px; \n",
    "#                   border-style:solid; \n",
    "#                   border-color:#000000; \n",
    "#                   padding: 1em; \n",
    "#                   background-color:grey;\">\n",
    "#                   sfdsfsf\n",
    "                  \n",
    "#                   </p>\"\"\"+str(string))\n",
    "\n",
    "    string_list = []\n",
    "    string_list.append(\"\"\"<p style=\"border:3px; border-style:solid; border-color:#000000; padding: 1em; background-color:grey; font-family:Courier New\">\"\"\")\n",
    "    string_list.append('#type,x,y,z,radius\\n')\n",
    "    \n",
    "    # writing ra and rb items\n",
    "    for i in range(len(ra_item)):\n",
    "        string_list.append(str(0)+','+str(ra_item[i].pos.x)+','+str(ra_item[i].pos.y)+','+str(ra_item[i].pos.z)+','+str(ra_item[i].radius)+'\\n')\n",
    "\n",
    "#     for i in range(len(rb_item)):\n",
    "#         string_list.append(str(0)+','+str(rb_item[i].pos.x)+','+str(rb_item[i].pos.y)+','+str(rb_item[i].pos.z)+','+str(rb_item[i].radius)+'\\n')\n",
    "\n",
    "    # writing cylinder \n",
    "    string_list.append('#type,x,y,z,axis,length\\n')\n",
    "    for i in range(len(cylinder_item)):\n",
    "        axis_num = axis_number(cylinder_item[i])\n",
    "        string_list.append(str(1)+','+str(cylinder_item[i].pos.x)+','+str(cylinder_item[i].pos.y)+','+str(cylinder_item[i].pos.z)+','+str(axis_num)+'\\n')\n",
    "\n",
    "    string_list.append(\"</p>\")\n",
    "    string = \"\".join(string_list)\n",
    "    it5 = wtext(text=string)\n",
    "    \n",
    "def del_csv():\n",
    "    global it5\n",
    "    it5.delete()\n",
    "    it5.text=\"\"\n",
    "\n",
    "\n",
    "def build(L,ra):\n",
    "    global ra_item\n",
    "    global rb_item\n",
    "    global cylinder_item\n",
    "    global total_item\n",
    "    L1 = L+1\n",
    "    for i in range(-L1,L1):   #x\n",
    "        for j in range(-L1,L1): #y\n",
    "            for k in range(-L1,L1): #z\n",
    "                if (L%2) == 0 :\n",
    "                    if ((i+j+k)%2) == 0:\n",
    "                        if i%2==0 and j%2==0 and k%2==0:\n",
    "                            b=sphere(pos = vector(i,j,k), radius = ra, color = color.green)\n",
    "                            ra_item.append(b)\n",
    "                    if i%2==0 and j%2==0 and k%2==0:\n",
    "                        if i+1<=L1-1:\n",
    "                            b=cylinder(pos = vector(i,j,k), axis=vector(2,0,0),radius = .01, color = color.white)\n",
    "                            cylinder_item.append(b)\n",
    "                        if j+1<=L1-1:\n",
    "                            b=cylinder(pos = vector(i,j,k), axis=vector(0,2,0),radius = .01, color = color.white)\n",
    "                            cylinder_item.append(b)\n",
    "                        if k+1<=L1-1:\n",
    "                            b=cylinder(pos = vector(i,j,k), axis=vector(0,0,2),radius = .01, color = color.white)  \n",
    "                            cylinder_item.append(b)\n",
    "                else :     \n",
    "                        if ((i+j+k)%2) == 0:\n",
    "                            if i%2==0 and j%2==0 and k%2==0:\n",
    "                                b=sphere(pos = vector(i+1,j+1,k+1), radius = ra, color = color.green)\n",
    "                                ra_item.append(b)\n",
    "                        if i%2==0 and j%2==0 and k%2==0:\n",
    "                            if i<L1-2:\n",
    "                                b=cylinder(pos = vector(i+1,j+1,k+1), axis=vector(2,0,0),radius = .01, color = color.white)\n",
    "                                cylinder_item.append(b)\n",
    "                            if j<L1-2:\n",
    "                                b=cylinder(pos = vector(i+1,j+1,k+1), axis=vector(0,2,0),radius = .01, color = color.white)\n",
    "                                cylinder_item.append(b)\n",
    "                            if k<L1-2:\n",
    "                                b=cylinder(pos = vector(i+1,j+1,k+1), axis=vector(0,0,2),radius = .01, color = color.white)  \n",
    "                                cylinder_item.append(b)\n",
    "                                \n",
    "    total_item = ra_item + cylinder_item\n",
    "    #print(len(total_item),len(ra_item),len(rb_item))\n",
    "    #return ra_item,rb_item,cylinder_item,total_item\n",
    "    \n",
    "    \n",
    "def build_button(s):\n",
    "    global ra_item\n",
    "    global rb_item\n",
    "    global cylinder_item\n",
    "    global total_item\n",
    "    global running\n",
    "    running = not running\n",
    "    if running: s.text = \"Pause\"\n",
    "    else: s.text = \"Run\"\n",
    "    \n",
    "    #ra_item,rb_item,cylinder_item,total_item = build(L,ra,rb,ra_item,rb_item,cylinder_item,total_item)\n",
    "\n",
    "def clear():\n",
    "    global ra_item\n",
    "    global rb_item\n",
    "    global cylinder_item\n",
    "    global total_item\n",
    "    for i in ra_item:\n",
    "        i.visible = False\n",
    "        del i\n",
    "    for i in rb_item:\n",
    "        i.visible = False\n",
    "        del i \n",
    "    for i in cylinder_item:\n",
    "        i.visible = False\n",
    "        del i\n",
    "    for i in total_item:\n",
    "        i.visible = False\n",
    "        del i\n",
    "\n",
    "# resetting button, rebuild based on inital parameters\n",
    "def reset():\n",
    "    global scene5\n",
    "    global ra_item\n",
    "    global rb_item\n",
    "    global cylinder_item\n",
    "    global total_item\n",
    "    clear()\n",
    "#     ra_item,rb_item,cylinder_item,total_item = build(L,ra,rb,ra_item,rb_item,cylinder_item,total_item)\n",
    "    build(L,ra)\n",
    "\n",
    "\n",
    "# Function for setting bond_ab\n",
    "def set_bondab(s):\n",
    "    bond_ab = s.number\n",
    "    ra = ra_int/bond_ab*1*scale_factor\n",
    "    rb = rb_int/bond_ab*1*scale_factor\n",
    "    for x in ra_item:\n",
    "        x.radius = ra\n",
    "    for y in rb_item:\n",
    "        y.radius = rb\n",
    "    return bond_ab\n",
    "\n",
    "# Function for setting r_a\n",
    "def set_ra(s):\n",
    "    ra_int = s.number \n",
    "    ra = ra_int/bond_ab*1*scale_factor\n",
    "    for x in ra_item:\n",
    "        x.radius = ra\n",
    "    return ra\n",
    "# Function for setting r_b\n",
    "def set_rb(s):\n",
    "    rb_int = s.number\n",
    "    rb = rb_int/bond_ab*1*scale_factor\n",
    "    for y in rb_item:\n",
    "        y.radius = rb\n",
    "    return rb\n",
    "# Function for setting scale_factor\n",
    "def set_scale_factor(s):\n",
    "    scale_factor = s.number\n",
    "    ra = ra_int/bond_ab*1*scale_factor\n",
    "    rb = rb_int/bond_ab*1*scale_factor\n",
    "    for x in ra_item:\n",
    "        x.radius = ra\n",
    "    for y in rb_item:\n",
    "        y.radius = rb\n",
    "    return scale_factor,ra,rb\n",
    "\n",
    "# Setting distance L\n",
    "def set_L(s):\n",
    "    global scene5\n",
    "    global ra_item\n",
    "    global rb_item\n",
    "    global cylinder_item\n",
    "    global total_item\n",
    "    L = s.number\n",
    "    clear()\n",
    "    scene5.camera.pos = vector(0,0,2*L)\n",
    "    scene5.center = vector(0,0,0)\n",
    "    #print(\"Center\",scene5.center)\n",
    "    #xprint(\"Camera\",scene5.camera.pos)\n",
    "    #ra_item,rb_item,cylinder_item,total_item = build(L,ra,rb,ra_item,rb_item,cylinder_item,total_item)\n",
    "    build(L,ra)\n",
    "\n",
    "#     #total_item = ra_item + rb_item + cylinder_item\n",
    "#     return ra_item,rb_item,cylinder_item#,total_item\n",
    "\n",
    "# inital build \n",
    "# ra_item,rb_item,cylinder_item,total_item = build(L,ra,rb,ra_item,rb_item,cylinder_item,total_item)\n",
    "build(L,ra)\n",
    "#print(len(total_item),len(ra_item),len(rb_item))\n",
    "\n",
    "# Heading explanation\n",
    "#############################################################################################\n",
    "wtext(text='<h2>Primitive Cubic Crystal System: metal Polonium</h2><hr>',pos= scene5.title_anchor)\n",
    "wtext(text='''The primitive cubic or the simple cubic structure is the simplest but also rare crystal structure. \n",
    "It consists of the smallest repeating pattern of the cube with one lattice point on each corner of the cube.\\\n",
    "''',pos= scene5.title_anchor)\n",
    "\n",
    "wtext(text='''<h3>Control</h3>\\\n",
    "<ul>\\\n",
    "<li><b>Rotate</b>: Right Button drag or Ctrl-drag</li>\\\n",
    "<li><b>Zoom</b>: Drag with middle button or use scroll wheel</li>\\\n",
    "</ul>''',pos= scene5.title_anchor)\n",
    "\n",
    "wtext(text='''<h3>Structure Parameters</h3>\\\n",
    "<ul>\\\n",
    "<li><b>L</b>: Number of cells (Integer Only)</li>\\\n",
    "<li><b>bond</b>: Distance between 2 closest atoms/ions </li>\\\n",
    "<li><b><font color = \"green\">r_a<font color =\"black\"></b>: Atomic/ionic radius[<font color = \"Green\">Green<font color =\"black\">] </li>\\\n",
    "</ul>''',pos= scene5.title_anchor)\n",
    "\n",
    "wtext(text='<hr>',pos = scene5.title_anchor)\n",
    "#############################################################################################\n",
    "# Button\n",
    "b1 = button(text = \"Run\", pos = scene5.title_anchor,bind = build_button)\n",
    "b2 = button(text = \"Reset\", pos = scene5.title_anchor,bind = reset)\n",
    "\n",
    "it0= wtext(text='<h5>Parameters:</h5>Adjust the parameters using the input box(press Enter key after modifying parameters every time)\\n')\n",
    "\n",
    "# Parameters input box\n",
    "it1 = wtext(text='L: ')\n",
    "ib1 = winput(type = \"numeric\",pos=scene5.caption_anchor,bind=set_L,text=1)\n",
    "#wo4 = wtext(text = bond_ab)\n",
    "scene5.append_to_caption(\"\\n\")\n",
    "\n",
    "it2 = wtext(text='bond: ')\n",
    "ib2 = winput(type = \"numeric\",pos=scene5.caption_anchor,bind=set_bondab, text = bond_default_text)\n",
    "#wo4 = wtext(text = bond_ab)\n",
    "wtext(text = \"\\\\(   \\\\unicode{x212B}   \\\\)\")\n",
    "scene5.append_to_caption(\"\\n\")\n",
    "\n",
    "it3 = wtext(text = 'ra: ')\n",
    "ib3 = winput(type = \"numeric\",pos=scene5.caption_anchor,bind=set_ra,text = ra_default_text)\n",
    "wtext(text = \"\\\\(   \\\\unicode{x212B}   \\\\)\")\n",
    "#wo5 = wtext(text = ra)\n",
    "scene5.append_to_caption(\"\\n\")\n",
    "\n",
    "# it4 = wtext(text = 'rb: ')\n",
    "# ib4 = winput(type = \"numeric\",pos=scene5.caption_anchor,bind=set_rb,text=0.99)\n",
    "# wtext(text = \"\\\\(   \\\\unicode{x212B}   \\\\)\")\n",
    "#wo6 = wtext(text = rb)\n",
    "\n",
    "# colorline atom\n",
    "it5 = wtext(text = 'scale: ')\n",
    "ib5 = winput(type = \"numeric\",pos=scene5.caption_anchor,bind=set_scale_factor,text=scale_default_text)\n",
    "wtext(text = \"\\\\(   Must be less than or equal to 1. A value less than 1 is used for an exploded view.  \\\\)\")\n",
    "\n",
    "scene5.append_to_caption(\"\\n\\n\")\n",
    "\n",
    "# wtext(text = \"\"\"<p style=\"border:3px; \n",
    "#                   border-style:solid; \n",
    "#                   border-color:#000000; \n",
    "#                   padding: 1em; \n",
    "#                   background-color:grey;\">\n",
    "#                   sfdsfsf\n",
    "                  \n",
    "#                   </p>\"\"\"+str(string))\n",
    "\n",
    "\n",
    "# generate CSV button\n",
    "ib6 = button(bind = print_csv, text='Generate CSV for STL conversion')\n",
    "ib7 = button(bind = del_csv, text='Remove CSV Box')\n",
    "scene5.append_to_caption(\"\\n\\n\\n\")\n",
    "it8 = wtext(text=\"\")\n",
    "\n",
    "\n",
    "#MathJax.Hub.Queue([\"Typeset\",MathJax.Hub])\n",
    "\n",
    "#Rotation\n",
    "while True:\n",
    "    rate(100)\n",
    "    if running:\n",
    "        for b in total_item:\n",
    "            b.rotate(angle=.01, axis=vector(0,1,0), origin=vector(0,0,0))\n",
    "    \n"
   ]
  },
  {
   "cell_type": "code",
   "execution_count": null,
   "metadata": {},
   "outputs": [],
   "source": []
  }
 ],
 "metadata": {
  "kernelspec": {
   "display_name": "VPython",
   "language": "python",
   "name": "vpython"
  },
  "language_info": {
   "codemirror_mode": {
    "name": "ipython",
    "version": 3
   },
   "file_extension": ".py",
   "mimetype": "text/x-python",
   "name": "python",
   "nbconvert_exporter": "python",
   "pygments_lexer": "ipython3",
   "version": "3.7.4"
  },
  "varInspector": {
   "cols": {
    "lenName": 16,
    "lenType": 16,
    "lenVar": 40
   },
   "kernels_config": {
    "python": {
     "delete_cmd_postfix": "",
     "delete_cmd_prefix": "del ",
     "library": "var_list.py",
     "varRefreshCmd": "print(var_dic_list())"
    },
    "r": {
     "delete_cmd_postfix": ") ",
     "delete_cmd_prefix": "rm(",
     "library": "var_list.r",
     "varRefreshCmd": "cat(var_dic_list()) "
    }
   },
   "types_to_exclude": [
    "module",
    "function",
    "builtin_function_or_method",
    "instance",
    "_Feature"
   ],
   "window_display": false
  },
  "widgets": {
   "application/vnd.jupyter.widget-state+json": {
    "state": {},
    "version_major": 2,
    "version_minor": 0
   }
  }
 },
 "nbformat": 4,
 "nbformat_minor": 2
}
